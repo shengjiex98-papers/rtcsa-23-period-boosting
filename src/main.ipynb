{
 "cells": [
  {
   "cell_type": "markdown",
   "id": "f60ffa45-56c1-4631-985b-10d65f50169c",
   "metadata": {},
   "source": [
    "# Safety-Aware Schedule Synthesis via Period Boosting and Compressing"
   ]
  },
  {
   "cell_type": "code",
   "execution_count": 1,
   "id": "2da534e9-0eee-4a1f-b496-6f976d008c7b",
   "metadata": {},
   "outputs": [
    {
     "name": "stderr",
     "output_type": "stream",
     "text": [
      "\u001b[36m\u001b[1m[ \u001b[22m\u001b[39m\u001b[36m\u001b[1mInfo: \u001b[22m\u001b[39mPrecompiling ControlTimingSafety [3a76c758-31f1-42cb-b697-12fe755e3b12]\n",
      "\u001b[36m\u001b[1m[ \u001b[22m\u001b[39m\u001b[36m\u001b[1mInfo: \u001b[22m\u001b[39mPrecompiling Experiments [top-level]\n"
     ]
    }
   ],
   "source": [
    "using Plots\n",
    "using LaTeXStrings\n",
    "using ControlSystemsBase\n",
    "using DelimitedFiles\n",
    "\n",
    "using ControlSafetyBench\n",
    "using ControlTimingSafety\n",
    "\n",
    "push!(LOAD_PATH, \"../lib\")\n",
    "using Experiments"
   ]
  },
  {
   "cell_type": "markdown",
   "id": "76114f47-bbd9-465c-9f01-7f10f01b97b7",
   "metadata": {
    "jp-MarkdownHeadingCollapsed": true
   },
   "source": [
    "## Explore Systems and Set up Parameters"
   ]
  },
  {
   "cell_type": "code",
   "execution_count": 2,
   "id": "9c0c9f5f-8072-4fd3-93c5-6a65e7e43ff3",
   "metadata": {},
   "outputs": [
    {
     "data": {
      "text/plain": [
       "StateSpace{Continuous, Float64}\n",
       "A = \n",
       " 0.0  6.5\n",
       " 0.0  0.0\n",
       "B = \n",
       "  0.0\n",
       " 19.68503937007874\n",
       "C = \n",
       " 1.0  0.0\n",
       "D = \n",
       " 0.0\n",
       "\n",
       "Continuous-time state-space model"
      ]
     },
     "execution_count": 2,
     "metadata": {},
     "output_type": "execute_result"
    }
   ],
   "source": [
    "sysc = benchmarks[:F1]"
   ]
  },
  {
   "cell_type": "code",
   "execution_count": 12,
   "id": "b45c42e4-ce96-4986-ad9c-4b8f985a497a",
   "metadata": {},
   "outputs": [
    {
     "data": {
      "text/plain": [
       "1×3 Matrix{Float64}:\n",
       " 0.160079  0.214257  0.0221421"
      ]
     },
     "execution_count": 12,
     "metadata": {},
     "output_type": "execute_result"
    }
   ],
   "source": [
    "H = 100\n",
    "d_max = 1000\n",
    "maxwindow = 6\n",
    "params = (\n",
    "    RC = (p = 23, d = 1.4, x0 = 100, n = 10),\n",
    "    F1 = (p = 20, d = 1.2, x0 = 1,   n = 15),\n",
    "    DC = (p = 23, d = 3.5, x0 = 100, n = 10),\n",
    "    CS = (p = 27, d = 9.4, x0 = 100, n = 15),\n",
    "    CC = (p = 28, d = 5.3, x0 = 10,  n = 15))\n",
    "K = (\n",
    "    RC = delay_lqr(benchmarks[:RC], 0.001*params[:RC][:p]),\n",
    "    F1 = delay_lqr(benchmarks[:F1], 0.001*params[:F1][:p]),\n",
    "    DC = delay_lqr(benchmarks[:DC], 0.001*params[:DC][:p]),\n",
    "    CS = delay_lqr(benchmarks[:CS], 0.001*params[:CS][:p]),\n",
    "    CC = delay_lqr(benchmarks[:CC], 0.001*params[:CC][:p]))\n",
    "K[:RC]"
   ]
  },
  {
   "cell_type": "markdown",
   "id": "192c6081-6a84-4703-94ce-bf6caaa942e0",
   "metadata": {
    "jp-MarkdownHeadingCollapsed": true
   },
   "source": [
    "## Calculating and Comparing Nominal Trajectories\n",
    "\n",
    "We compare the two nominal trajectories:\n",
    "- `nominal1`: the original trajectory with $p$ ms period\n",
    "- `nominal2`: a trajectory with $1$ ms period that simulates the original nominal behavior with a much finer interval.\n",
    "\n",
    "The `nominal2` trajectory is simulated with every $p$-th deadline being a hit, and all other deadlines being misses. To simulate the logical execution time (LET) paradigm, where the sampling of system state and application of control input is $p$ ms apart, the `Hold&SkipNext` policy is used to ensure the $p$ ms delay in control input calculation."
   ]
  },
  {
   "cell_type": "code",
   "execution_count": 4,
   "id": "4e4d03dd-7470-4e73-bf0a-b211ac72f7ab",
   "metadata": {},
   "outputs": [
    {
     "data": {
      "text/plain": [
       "true"
      ]
     },
     "execution_count": 4,
     "metadata": {},
     "output_type": "execute_result"
    }
   ],
   "source": [
    "let\n",
    "    nominal1 = nominal_trajectory_1(sysc, params[:F1][:x0], params[:F1][:p], H)\n",
    "    nominal2 = nominal_trajectory_2(sysc, params[:F1][:x0], params[:F1][:p], H)\n",
    "    slice_nominal(nominal2, params[:F1][:p]) ≈ nominal1\n",
    "end"
   ]
  },
  {
   "cell_type": "code",
   "execution_count": 5,
   "id": "aa446599-e3d7-46d3-a9b7-f45ce7e6ef0f",
   "metadata": {},
   "outputs": [
    {
     "data": {
      "text/plain": [
       "2×2301 Matrix{Float64}:\n",
       " 100.0  99.5015  99.0059  98.5132  …  -0.205483  -0.205453  -0.205435\n",
       " 100.0  99.95    99.8999  99.8497     15.9149    15.902     15.8891"
      ]
     },
     "execution_count": 5,
     "metadata": {},
     "output_type": "execute_result"
    }
   ],
   "source": [
    "nominal = (\n",
    "    RC = nominal_trajectory_2(benchmarks[:RC], params[:RC][:x0], params[:RC][:p], H),\n",
    "    F1 = nominal_trajectory_2(benchmarks[:F1], params[:F1][:x0], params[:F1][:p], H),\n",
    "    DC = nominal_trajectory_2(benchmarks[:DC], params[:DC][:x0], params[:DC][:p], H),\n",
    "    CS = nominal_trajectory_2(benchmarks[:CS], params[:CS][:x0], params[:CS][:p], H),\n",
    "    CC = nominal_trajectory_2(benchmarks[:CC], params[:CC][:x0], params[:CC][:p], H))\n",
    "nominal[:RC]"
   ]
  },
  {
   "cell_type": "markdown",
   "id": "f7d69f52-c0f0-4874-9a3b-d9936b8212bb",
   "metadata": {
    "jp-MarkdownHeadingCollapsed": true
   },
   "source": [
    "## Synthesizing Constraints and Compare with Non-Period-Boosted Solution"
   ]
  },
  {
   "cell_type": "markdown",
   "id": "bfd57fbc-b328-49f4-aaf6-ce5c2a6233fe",
   "metadata": {},
   "source": [
    "The reference method without any period boosting"
   ]
  },
  {
   "cell_type": "code",
   "execution_count": 13,
   "id": "65876250-d9cb-4a7a-a639-c5b3b3c8c79d",
   "metadata": {},
   "outputs": [],
   "source": [
    "ref(s::Symbol) = synthesize_constraints(c2d(benchmarks[s], params[s][:p]*0.001),\n",
    "    K[s], x_to_z_kill(benchmarks[s], params[s][:x0]), d_max, maxwindow, \n",
    "    params[s][:n], H, fullresults=true, nominal=slice_nominal(nominal[s], params[s][:p]))[2];"
   ]
  },
  {
   "cell_type": "code",
   "execution_count": 14,
   "id": "7135e3ae-b9fd-44f0-aff6-a3bb74a38796",
   "metadata": {},
   "outputs": [
    {
     "data": {
      "text/plain": [
       "6×6 Matrix{Float64}:\n",
       "  2.6974e-6  Inf         Inf         Inf         Inf         Inf\n",
       "  4.0494      2.6974e-6  Inf         Inf         Inf         Inf\n",
       "  7.2908      4.0494      2.6974e-6  Inf         Inf         Inf\n",
       "  9.86749     7.2908      4.0494      2.6974e-6  Inf         Inf\n",
       " 11.8986      9.86749     7.2908      4.0494      2.6974e-6  Inf\n",
       " 13.483      11.8986      9.86749     7.2908      4.0494      2.6974e-6"
      ]
     },
     "execution_count": 14,
     "metadata": {},
     "output_type": "execute_result"
    }
   ],
   "source": [
    "ref(:RC)"
   ]
  },
  {
   "cell_type": "markdown",
   "id": "68049b43-f3e5-4e35-bfd7-7c9971630275",
   "metadata": {},
   "source": [
    "Constraint synthesis with period boosting"
   ]
  },
  {
   "cell_type": "code",
   "execution_count": 15,
   "id": "84e7be78-d8ec-41ef-8c69-3141d7ebc351",
   "metadata": {},
   "outputs": [],
   "source": [
    "pb(s::Symbol, newp::Real) = period_boosting(benchmarks[s], K[s], newp,\n",
    "    x_to_z_kill(benchmarks[s], params[s][:x0]), d_max, maxwindow, params[s][:n], nominal[s]);"
   ]
  },
  {
   "cell_type": "markdown",
   "id": "954a52b6-a641-47e3-9177-187ac6f84fe2",
   "metadata": {},
   "source": [
    "Compare two approaches with original period ($23$ ms). There should not be any differences in this case."
   ]
  },
  {
   "cell_type": "code",
   "execution_count": 16,
   "id": "d0040bd9-bf0c-410c-81d5-710874308670",
   "metadata": {},
   "outputs": [
    {
     "data": {
      "text/plain": [
       "6×6 Matrix{Float64}:\n",
       " 0.0  NaN    NaN    NaN    NaN    NaN\n",
       " 0.0    0.0  NaN    NaN    NaN    NaN\n",
       " 0.0    0.0    0.0  NaN    NaN    NaN\n",
       " 0.0    0.0    0.0    0.0  NaN    NaN\n",
       " 0.0    0.0    0.0    0.0    0.0  NaN\n",
       " 0.0    0.0    0.0    0.0    0.0    0.0"
      ]
     },
     "execution_count": 16,
     "metadata": {},
     "output_type": "execute_result"
    }
   ],
   "source": [
    "pb(:RC, 23) - reff(:RC)"
   ]
  },
  {
   "cell_type": "markdown",
   "id": "654fe4a7-5cbc-4de6-8be8-4785631aad1d",
   "metadata": {},
   "source": [
    "Compare the original with a new period $p=28$ ms. The values below\n",
    "are the net changes between the two periods. In this case, all constraints have higher deviations."
   ]
  },
  {
   "cell_type": "code",
   "execution_count": 17,
   "id": "fba4150c-e13b-425f-a788-b5c0f9e91fe1",
   "metadata": {},
   "outputs": [
    {
     "data": {
      "text/plain": [
       "6×6 Matrix{Float64}:\n",
       " 0.926938  NaN         NaN         NaN         NaN         NaN\n",
       " 1.46229     0.926938  NaN         NaN         NaN         NaN\n",
       " 1.71857     1.46229     0.926938  NaN         NaN         NaN\n",
       " 1.78087     1.71857     1.46229     0.926938  NaN         NaN\n",
       " 1.69665     1.78087     1.71857     1.46229     0.926938  NaN\n",
       " 1.51259     1.69665     1.78087     1.71857     1.46229     0.926938"
      ]
     },
     "execution_count": 17,
     "metadata": {},
     "output_type": "execute_result"
    }
   ],
   "source": [
    "pb(:RC, 28) - reff(:RC)"
   ]
  },
  {
   "cell_type": "markdown",
   "id": "03355f99-d92a-4fff-a817-31ab2b47d96a",
   "metadata": {},
   "source": [
    "## Experiments"
   ]
  },
  {
   "cell_type": "code",
   "execution_count": 11,
   "id": "2c7cf9b7-11fe-450d-8477-0d075a969c6d",
   "metadata": {},
   "outputs": [
    {
     "name": "stderr",
     "output_type": "stream",
     "text": [
      "\u001b[36m\u001b[1m┌ \u001b[22m\u001b[39m\u001b[36m\u001b[1mInfo: \u001b[22m\u001b[39mRC\n",
      "\u001b[36m\u001b[1m│ \u001b[22m\u001b[39m  newp = 15\n",
      "\u001b[36m\u001b[1m│ \u001b[22m\u001b[39m  res[(sys, newp)] =\n",
      "\u001b[36m\u001b[1m│ \u001b[22m\u001b[39m   6×6 Matrix{Float64}:\n",
      "\u001b[36m\u001b[1m│ \u001b[22m\u001b[39m    1.41163  Inf       Inf       Inf       Inf       Inf\n",
      "\u001b[36m\u001b[1m│ \u001b[22m\u001b[39m    1.41163   1.41163  Inf       Inf       Inf       Inf\n",
      "\u001b[36m\u001b[1m│ \u001b[22m\u001b[39m    3.88435   1.41163   1.41163  Inf       Inf       Inf\n",
      "\u001b[36m\u001b[1m│ \u001b[22m\u001b[39m    6.07337   3.88435   1.41163   1.41163  Inf       Inf\n",
      "\u001b[36m\u001b[1m│ \u001b[22m\u001b[39m    7.99598   6.07337   3.88435   1.41163   1.41163  Inf\n",
      "\u001b[36m\u001b[1m└ \u001b[22m\u001b[39m    9.65662   7.99598   6.07337   3.88435   1.41163   1.41163\n",
      "\u001b[36m\u001b[1m┌ \u001b[22m\u001b[39m\u001b[36m\u001b[1mInfo: \u001b[22m\u001b[39mRC\n",
      "\u001b[36m\u001b[1m│ \u001b[22m\u001b[39m  newp = 28\n",
      "\u001b[36m\u001b[1m│ \u001b[22m\u001b[39m  res[(sys, newp)] =\n",
      "\u001b[36m\u001b[1m│ \u001b[22m\u001b[39m   6×6 Matrix{Float64}:\n",
      "\u001b[36m\u001b[1m│ \u001b[22m\u001b[39m     0.926941  Inf        Inf        Inf        Inf        Inf\n",
      "\u001b[36m\u001b[1m│ \u001b[22m\u001b[39m     5.51169    0.926941  Inf        Inf        Inf        Inf\n",
      "\u001b[36m\u001b[1m│ \u001b[22m\u001b[39m     9.00937    5.51169    0.926941  Inf        Inf        Inf\n",
      "\u001b[36m\u001b[1m│ \u001b[22m\u001b[39m    11.6484     9.00937    5.51169    0.926941  Inf        Inf\n",
      "\u001b[36m\u001b[1m│ \u001b[22m\u001b[39m    13.5953    11.6484     9.00937    5.51169    0.926941  Inf\n",
      "\u001b[36m\u001b[1m└ \u001b[22m\u001b[39m    14.9956    13.5953    11.6484     9.00937    5.51169    0.926941\n",
      "\u001b[36m\u001b[1m┌ \u001b[22m\u001b[39m\u001b[36m\u001b[1mInfo: \u001b[22m\u001b[39mRC\n",
      "\u001b[36m\u001b[1m│ \u001b[22m\u001b[39m  newp = 40\n",
      "\u001b[36m\u001b[1m│ \u001b[22m\u001b[39m  res[(sys, newp)] =\n",
      "\u001b[36m\u001b[1m│ \u001b[22m\u001b[39m   6×6 Matrix{Float64}:\n",
      "\u001b[36m\u001b[1m│ \u001b[22m\u001b[39m     3.04462  Inf       Inf       Inf       Inf       Inf\n",
      "\u001b[36m\u001b[1m│ \u001b[22m\u001b[39m     8.56541   3.04462  Inf       Inf       Inf       Inf\n",
      "\u001b[36m\u001b[1m│ \u001b[22m\u001b[39m    12.2605    8.56541   3.04462  Inf       Inf       Inf\n",
      "\u001b[36m\u001b[1m│ \u001b[22m\u001b[39m    14.6529   12.2605    8.56541   3.04462  Inf       Inf\n",
      "\u001b[36m\u001b[1m│ \u001b[22m\u001b[39m    16.1088   14.6529   12.2605    8.56541   3.04462  Inf\n",
      "\u001b[36m\u001b[1m└ \u001b[22m\u001b[39m    16.9447   16.1088   14.6529   12.2605    8.56541   3.04462\n",
      "\u001b[36m\u001b[1m┌ \u001b[22m\u001b[39m\u001b[36m\u001b[1mInfo: \u001b[22m\u001b[39mF1\n",
      "\u001b[36m\u001b[1m│ \u001b[22m\u001b[39m  newp = 15\n",
      "\u001b[36m\u001b[1m│ \u001b[22m\u001b[39m  res[(sys, newp)] =\n",
      "\u001b[36m\u001b[1m│ \u001b[22m\u001b[39m   6×6 Matrix{Float64}:\n",
      "\u001b[36m\u001b[1m│ \u001b[22m\u001b[39m     0.0300507  Inf         Inf         Inf         Inf         Inf\n",
      "\u001b[36m\u001b[1m│ \u001b[22m\u001b[39m     0.14081     0.0300507  Inf         Inf         Inf         Inf\n",
      "\u001b[36m\u001b[1m│ \u001b[22m\u001b[39m     0.271742    0.140257    0.0300507  Inf         Inf         Inf\n",
      "\u001b[36m\u001b[1m│ \u001b[22m\u001b[39m     0.495794    0.270208    0.139668    0.0300507  Inf         Inf\n",
      "\u001b[36m\u001b[1m│ \u001b[22m\u001b[39m     4.18927     0.423826    0.269924    0.139668    0.0300507  Inf\n",
      "\u001b[36m\u001b[1m└ \u001b[22m\u001b[39m    97.8666      2.09156     0.422074    0.269924    0.139668    0.0300507\n",
      "\u001b[36m\u001b[1m┌ \u001b[22m\u001b[39m\u001b[36m\u001b[1mInfo: \u001b[22m\u001b[39mF1\n",
      "\u001b[36m\u001b[1m│ \u001b[22m\u001b[39m  newp = 28\n",
      "\u001b[36m\u001b[1m│ \u001b[22m\u001b[39m  res[(sys, newp)] =\n",
      "\u001b[36m\u001b[1m│ \u001b[22m\u001b[39m   6×6 Matrix{Float64}:\n",
      "\u001b[36m\u001b[1m│ \u001b[22m\u001b[39m        0.0579202   Inf         Inf         …  Inf         Inf\n",
      "\u001b[36m\u001b[1m│ \u001b[22m\u001b[39m        0.289376     0.0579202  Inf            Inf         Inf\n",
      "\u001b[36m\u001b[1m│ \u001b[22m\u001b[39m        0.561396     0.289376    0.0579202     Inf         Inf\n",
      "\u001b[36m\u001b[1m│ \u001b[22m\u001b[39m       24.7372       0.561396    0.289376      Inf         Inf\n",
      "\u001b[36m\u001b[1m│ \u001b[22m\u001b[39m     2641.09        17.5832      0.561396       0.0579202  Inf\n",
      "\u001b[36m\u001b[1m└ \u001b[22m\u001b[39m    19434.4        291.778       0.843553   …   0.289376    0.0579202\n",
      "\u001b[36m\u001b[1m┌ \u001b[22m\u001b[39m\u001b[36m\u001b[1mInfo: \u001b[22m\u001b[39mF1\n",
      "\u001b[36m\u001b[1m│ \u001b[22m\u001b[39m  newp = 40\n",
      "\u001b[36m\u001b[1m│ \u001b[22m\u001b[39m  res[(sys, newp)] =\n",
      "\u001b[36m\u001b[1m│ \u001b[22m\u001b[39m   6×6 Matrix{Float64}:\n",
      "\u001b[36m\u001b[1m│ \u001b[22m\u001b[39m        0.20604       Inf        Inf        Inf        Inf        Inf\n",
      "\u001b[36m\u001b[1m│ \u001b[22m\u001b[39m        0.559372       0.20604   Inf        Inf        Inf        Inf\n",
      "\u001b[36m\u001b[1m│ \u001b[22m\u001b[39m      254.262          0.511469   0.20604   Inf        Inf        Inf\n",
      "\u001b[36m\u001b[1m│ \u001b[22m\u001b[39m     9174.34          75.1079     0.511469   0.20604   Inf        Inf\n",
      "\u001b[36m\u001b[1m│ \u001b[22m\u001b[39m    91946.8         6693.52       2.85959    0.511469   0.20604   Inf\n",
      "\u001b[36m\u001b[1m└ \u001b[22m\u001b[39m        1.51974e5  19299.9       46.3345     1.06194    0.511469   0.20604\n",
      "\u001b[36m\u001b[1m┌ \u001b[22m\u001b[39m\u001b[36m\u001b[1mInfo: \u001b[22m\u001b[39mDC\n",
      "\u001b[36m\u001b[1m│ \u001b[22m\u001b[39m  newp = 15\n",
      "\u001b[36m\u001b[1m│ \u001b[22m\u001b[39m  res[(sys, newp)] =\n",
      "\u001b[36m\u001b[1m│ \u001b[22m\u001b[39m   6×6 Matrix{Float64}:\n",
      "\u001b[36m\u001b[1m│ \u001b[22m\u001b[39m    0.0154195  Inf         Inf         Inf         Inf         Inf\n",
      "\u001b[36m\u001b[1m│ \u001b[22m\u001b[39m    0.0320653   0.0154195  Inf         Inf         Inf         Inf\n",
      "\u001b[36m\u001b[1m│ \u001b[22m\u001b[39m    0.0692046   0.0320411   0.0154195  Inf         Inf         Inf\n",
      "\u001b[36m\u001b[1m│ \u001b[22m\u001b[39m    0.107167    0.0691911   0.032034    0.0154195  Inf         Inf\n",
      "\u001b[36m\u001b[1m│ \u001b[22m\u001b[39m    0.144157    0.107161    0.0691845   0.0320225   0.0154195  Inf\n",
      "\u001b[36m\u001b[1m└ \u001b[22m\u001b[39m    0.179911    0.144129    0.107161    0.0691845   0.0320225   0.0154195\n",
      "\u001b[36m\u001b[1m┌ \u001b[22m\u001b[39m\u001b[36m\u001b[1mInfo: \u001b[22m\u001b[39mDC\n",
      "\u001b[36m\u001b[1m│ \u001b[22m\u001b[39m  newp = 28\n",
      "\u001b[36m\u001b[1m│ \u001b[22m\u001b[39m  res[(sys, newp)] =\n",
      "\u001b[36m\u001b[1m│ \u001b[22m\u001b[39m   6×6 Matrix{Float64}:\n",
      "\u001b[36m\u001b[1m│ \u001b[22m\u001b[39m    0.0098208  Inf         Inf         Inf         Inf         Inf\n",
      "\u001b[36m\u001b[1m│ \u001b[22m\u001b[39m    0.0835649   0.0098208  Inf         Inf         Inf         Inf\n",
      "\u001b[36m\u001b[1m│ \u001b[22m\u001b[39m    0.154078    0.0835649   0.0098208  Inf         Inf         Inf\n",
      "\u001b[36m\u001b[1m│ \u001b[22m\u001b[39m    0.220022    0.154078    0.0835649   0.0098208  Inf         Inf\n",
      "\u001b[36m\u001b[1m│ \u001b[22m\u001b[39m    0.280597    0.220022    0.154078    0.0835649   0.0098208  Inf\n",
      "\u001b[36m\u001b[1m└ \u001b[22m\u001b[39m    0.337292    0.280597    0.220022    0.154078    0.0835649   0.0098208\n",
      "\u001b[36m\u001b[1m┌ \u001b[22m\u001b[39m\u001b[36m\u001b[1mInfo: \u001b[22m\u001b[39mDC\n",
      "\u001b[36m\u001b[1m│ \u001b[22m\u001b[39m  newp = 40\n",
      "\u001b[36m\u001b[1m│ \u001b[22m\u001b[39m  res[(sys, newp)] =\n",
      "\u001b[36m\u001b[1m│ \u001b[22m\u001b[39m   6×6 Matrix{Float64}:\n",
      "\u001b[36m\u001b[1m│ \u001b[22m\u001b[39m    0.0336126  Inf         Inf         Inf         Inf         Inf\n",
      "\u001b[36m\u001b[1m│ \u001b[22m\u001b[39m    0.135847    0.0336126  Inf         Inf         Inf         Inf\n",
      "\u001b[36m\u001b[1m│ \u001b[22m\u001b[39m    0.231113    0.135847    0.0336126  Inf         Inf         Inf\n",
      "\u001b[36m\u001b[1m│ \u001b[22m\u001b[39m    0.316291    0.231113    0.135847    0.0336126  Inf         Inf\n",
      "\u001b[36m\u001b[1m│ \u001b[22m\u001b[39m    0.390033    0.316291    0.231113    0.135847    0.0336126  Inf\n",
      "\u001b[36m\u001b[1m└ \u001b[22m\u001b[39m    0.457785    0.390033    0.316291    0.231113    0.135847    0.0336126\n",
      "\u001b[36m\u001b[1m┌ \u001b[22m\u001b[39m\u001b[36m\u001b[1mInfo: \u001b[22m\u001b[39mCS\n",
      "\u001b[36m\u001b[1m│ \u001b[22m\u001b[39m  newp = 15\n",
      "\u001b[36m\u001b[1m│ \u001b[22m\u001b[39m  res[(sys, newp)] =\n",
      "\u001b[36m\u001b[1m│ \u001b[22m\u001b[39m   6×6 Matrix{Float64}:\n",
      "\u001b[36m\u001b[1m│ \u001b[22m\u001b[39m    0.149391  Inf        Inf        Inf        Inf        Inf\n",
      "\u001b[36m\u001b[1m│ \u001b[22m\u001b[39m    0.857002   0.149391  Inf        Inf        Inf        Inf\n",
      "\u001b[36m\u001b[1m│ \u001b[22m\u001b[39m    1.69507    0.779956   0.149391  Inf        Inf        Inf\n",
      "\u001b[36m\u001b[1m│ \u001b[22m\u001b[39m    2.68819    1.5449     0.709702   0.149391  Inf        Inf\n",
      "\u001b[36m\u001b[1m│ \u001b[22m\u001b[39m    4.33639    2.34029    1.4438     0.690039   0.149391  Inf\n",
      "\u001b[36m\u001b[1m└ \u001b[22m\u001b[39m    5.40792    3.13938    2.20644    1.40465    0.676303   0.149391\n",
      "\u001b[36m\u001b[1m┌ \u001b[22m\u001b[39m\u001b[36m\u001b[1mInfo: \u001b[22m\u001b[39mCS\n",
      "\u001b[36m\u001b[1m│ \u001b[22m\u001b[39m  newp = 28\n",
      "\u001b[36m\u001b[1m│ \u001b[22m\u001b[39m  res[(sys, newp)] =\n",
      "\u001b[36m\u001b[1m│ \u001b[22m\u001b[39m   6×6 Matrix{Float64}:\n",
      "\u001b[36m\u001b[1m│ \u001b[22m\u001b[39m    0.0124353  Inf         Inf         Inf         Inf         Inf\n",
      "\u001b[36m\u001b[1m│ \u001b[22m\u001b[39m    0.523443    0.0124353  Inf         Inf         Inf         Inf\n",
      "\u001b[36m\u001b[1m│ \u001b[22m\u001b[39m    1.10342     0.466346    0.0124353  Inf         Inf         Inf\n",
      "\u001b[36m\u001b[1m│ \u001b[22m\u001b[39m    1.79142     0.98333     0.438419    0.0124353  Inf         Inf\n",
      "\u001b[36m\u001b[1m│ \u001b[22m\u001b[39m    2.52257     1.51824     0.932911    0.421995    0.0124353  Inf\n",
      "\u001b[36m\u001b[1m└ \u001b[22m\u001b[39m    3.21676     2.04685     1.44349     0.897641    0.411208    0.0124353\n",
      "\u001b[36m\u001b[1m┌ \u001b[22m\u001b[39m\u001b[36m\u001b[1mInfo: \u001b[22m\u001b[39mCS\n",
      "\u001b[36m\u001b[1m│ \u001b[22m\u001b[39m  newp = 40\n",
      "\u001b[36m\u001b[1m│ \u001b[22m\u001b[39m  res[(sys, newp)] =\n",
      "\u001b[36m\u001b[1m│ \u001b[22m\u001b[39m   6×6 Matrix{Float64}:\n",
      "\u001b[36m\u001b[1m│ \u001b[22m\u001b[39m    0.162344  Inf        Inf        Inf        Inf        Inf\n",
      "\u001b[36m\u001b[1m│ \u001b[22m\u001b[39m    0.582249   0.162344  Inf        Inf        Inf        Inf\n",
      "\u001b[36m\u001b[1m│ \u001b[22m\u001b[39m    1.0705     0.536147   0.162344  Inf        Inf        Inf\n",
      "\u001b[36m\u001b[1m│ \u001b[22m\u001b[39m    1.61431    0.996522   0.511527   0.162344  Inf        Inf\n",
      "\u001b[36m\u001b[1m│ \u001b[22m\u001b[39m    2.20196    1.5023     0.953133   0.49405    0.162344  Inf\n",
      "\u001b[36m\u001b[1m└ \u001b[22m\u001b[39m    2.7894     2.00331    1.43122    0.911848   0.482789   0.162344\n",
      "\u001b[36m\u001b[1m┌ \u001b[22m\u001b[39m\u001b[36m\u001b[1mInfo: \u001b[22m\u001b[39mCC\n",
      "\u001b[36m\u001b[1m│ \u001b[22m\u001b[39m  newp = 15\n",
      "\u001b[36m\u001b[1m│ \u001b[22m\u001b[39m  res[(sys, newp)] =\n",
      "\u001b[36m\u001b[1m│ \u001b[22m\u001b[39m   6×6 Matrix{Float64}:\n",
      "\u001b[36m\u001b[1m│ \u001b[22m\u001b[39m     0.214848  Inf        Inf        Inf        Inf        Inf\n",
      "\u001b[36m\u001b[1m│ \u001b[22m\u001b[39m     2.04227    0.214848  Inf        Inf        Inf        Inf\n",
      "\u001b[36m\u001b[1m│ \u001b[22m\u001b[39m     4.39042    1.70434    0.214848  Inf        Inf        Inf\n",
      "\u001b[36m\u001b[1m│ \u001b[22m\u001b[39m     7.3007     3.83821    1.51545    0.214848  Inf        Inf\n",
      "\u001b[36m\u001b[1m│ \u001b[22m\u001b[39m    11.0916     6.68262    3.44042    1.40183    0.214848  Inf\n",
      "\u001b[36m\u001b[1m└ \u001b[22m\u001b[39m    15.6022    10.1687     5.97671    3.18105    1.33024    0.214848\n",
      "\u001b[36m\u001b[1m┌ \u001b[22m\u001b[39m\u001b[36m\u001b[1mInfo: \u001b[22m\u001b[39mCC\n",
      "\u001b[36m\u001b[1m│ \u001b[22m\u001b[39m  newp = 28\n",
      "\u001b[36m\u001b[1m│ \u001b[22m\u001b[39m  res[(sys, newp)] =\n",
      "\u001b[36m\u001b[1m│ \u001b[22m\u001b[39m   6×6 Matrix{Float64}:\n",
      "\u001b[36m\u001b[1m│ \u001b[22m\u001b[39m    2.38419e-7  Inf          Inf          …  Inf          Inf\n",
      "\u001b[36m\u001b[1m│ \u001b[22m\u001b[39m    1.37146      2.38419e-7  Inf             Inf          Inf\n",
      "\u001b[36m\u001b[1m│ \u001b[22m\u001b[39m    2.97359      1.06627      2.38419e-7     Inf          Inf\n",
      "\u001b[36m\u001b[1m│ \u001b[22m\u001b[39m    4.8143       2.44919      0.913221       Inf          Inf\n",
      "\u001b[36m\u001b[1m│ \u001b[22m\u001b[39m    6.93404      4.11671      2.14667         2.38419e-7  Inf\n",
      "\u001b[36m\u001b[1m└ \u001b[22m\u001b[39m    9.25013      6.05132      3.67913     …   0.771067     2.38419e-7\n",
      "\u001b[36m\u001b[1m┌ \u001b[22m\u001b[39m\u001b[36m\u001b[1mInfo: \u001b[22m\u001b[39mCC\n",
      "\u001b[36m\u001b[1m│ \u001b[22m\u001b[39m  newp = 40\n",
      "\u001b[36m\u001b[1m│ \u001b[22m\u001b[39m  res[(sys, newp)] =\n",
      "\u001b[36m\u001b[1m│ \u001b[22m\u001b[39m   6×6 Matrix{Float64}:\n",
      "\u001b[36m\u001b[1m│ \u001b[22m\u001b[39m    0.201474  Inf        Inf        Inf        Inf        Inf\n",
      "\u001b[36m\u001b[1m│ \u001b[22m\u001b[39m    1.60445    0.201474  Inf        Inf        Inf        Inf\n",
      "\u001b[36m\u001b[1m│ \u001b[22m\u001b[39m    3.33197    1.25487    0.201474  Inf        Inf        Inf\n",
      "\u001b[36m\u001b[1m│ \u001b[22m\u001b[39m    5.30065    2.67086    1.09278    0.201474  Inf        Inf\n",
      "\u001b[36m\u001b[1m│ \u001b[22m\u001b[39m    7.4983     4.33209    2.36611    1.0013     0.201474  Inf\n",
      "\u001b[36m\u001b[1m└ \u001b[22m\u001b[39m    9.97808    6.18718    3.86038    2.15936    0.943826   0.201474\n"
     ]
    }
   ],
   "source": [
    "res = Dict()\n",
    "\n",
    "for sys in [:RC, :F1, :DC, :CS, :CC], newp in [15, 28, 40]\n",
    "    res[(sys, newp)] = pb(sys, newp)\n",
    "    @info sys newp res[(sys, newp)]\n",
    "    writedlm(\"../data/$sys-$newp.csv\", round.(res[(sys, newp)], sigdigits=5), '\\t')\n",
    "end"
   ]
  },
  {
   "cell_type": "code",
   "execution_count": null,
   "id": "6a7ca778-fe47-4c53-bff1-2bd4078e3e0a",
   "metadata": {},
   "outputs": [],
   "source": []
  }
 ],
 "metadata": {
  "kernelspec": {
   "display_name": "Julia 1.9.1",
   "language": "julia",
   "name": "julia-1.9"
  },
  "language_info": {
   "file_extension": ".jl",
   "mimetype": "application/julia",
   "name": "julia",
   "version": "1.9.1"
  }
 },
 "nbformat": 4,
 "nbformat_minor": 5
}

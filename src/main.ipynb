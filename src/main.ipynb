{
 "cells": [
  {
   "cell_type": "code",
   "execution_count": 2,
   "id": "2da534e9-0eee-4a1f-b496-6f976d008c7b",
   "metadata": {},
   "outputs": [
    {
     "name": "stderr",
     "output_type": "stream",
     "text": [
      "\u001b[36m\u001b[1m[ \u001b[22m\u001b[39m\u001b[36m\u001b[1mInfo: \u001b[22m\u001b[39mPrecompiling ControlTimingSafety [3a76c758-31f1-42cb-b697-12fe755e3b12]\n",
      "\u001b[36m\u001b[1m[ \u001b[22m\u001b[39m\u001b[36m\u001b[1mInfo: \u001b[22m\u001b[39mPrecompiling Experiments [top-level]\n"
     ]
    }
   ],
   "source": [
    "using Plots\n",
    "using LaTeXStrings\n",
    "using ControlSystemsBase\n",
    "\n",
    "using ControlSafetyBench\n",
    "using ControlTimingSafety\n",
    "\n",
    "push!(LOAD_PATH, \"../lib\")\n",
    "using Experiments"
   ]
  },
  {
   "cell_type": "code",
   "execution_count": 3,
   "id": "9c0c9f5f-8072-4fd3-93c5-6a65e7e43ff3",
   "metadata": {},
   "outputs": [
    {
     "data": {
      "text/plain": [
       "StateSpace{Continuous, Float64}\n",
       "A = \n",
       " 0.0  6.5\n",
       " 0.0  0.0\n",
       "B = \n",
       "  0.0\n",
       " 19.68503937007874\n",
       "C = \n",
       " 1.0  0.0\n",
       "D = \n",
       " 0.0\n",
       "\n",
       "Continuous-time state-space model"
      ]
     },
     "execution_count": 3,
     "metadata": {},
     "output_type": "execute_result"
    }
   ],
   "source": [
    "sysc = benchmarks[:F1]"
   ]
  },
  {
   "cell_type": "code",
   "execution_count": 23,
   "id": "b45c42e4-ce96-4986-ad9c-4b8f985a497a",
   "metadata": {},
   "outputs": [
    {
     "data": {
      "text/plain": [
       "(RC = [0.16007906919762957 0.21425701514482584 0.022142131526773], F1 = [0.5829779235411586 0.9271753376618778 0.3501109341069689], DC = [0.002450925693814821 0.21008690565359417 0.009888275600972808], CS = [-0.060978904156291966 -0.029637457530448608 … -0.001946499703810083 0.19714862204522535], CC = [-0.17665541860563097 0.8461463805530567 1.0851122174471777 0.07462485824197998])"
      ]
     },
     "execution_count": 23,
     "metadata": {},
     "output_type": "execute_result"
    }
   ],
   "source": [
    "H = 100\n",
    "d_max = 1000\n",
    "maxwindow = 6\n",
    "params = (\n",
    "    RC = (p = 23, d = 1.4, x0 = 100, n = 10),\n",
    "    F1 = (p = 20, d = 1.2, x0 = 1,   n = 12),\n",
    "    DC = (p = 23, d = 3.5, x0 = 100, n = 10),\n",
    "    CS = (p = 27, d = 9.4, x0 = 100, n = 15),\n",
    "    CC = (p = 28, d = 5.3, x0 = 10,  n = 20))\n",
    "K = (\n",
    "    RC = delay_lqr(benchmarks[:RC], 0.001*params[:RC][:p]),\n",
    "    F1 = delay_lqr(benchmarks[:F1], 0.001*params[:F1][:p]),\n",
    "    DC = delay_lqr(benchmarks[:DC], 0.001*params[:DC][:p]),\n",
    "    CS = delay_lqr(benchmarks[:CS], 0.001*params[:CS][:p]),\n",
    "    CC = delay_lqr(benchmarks[:CC], 0.001*params[:CC][:p]))"
   ]
  },
  {
   "cell_type": "code",
   "execution_count": 5,
   "id": "4e4d03dd-7470-4e73-bf0a-b211ac72f7ab",
   "metadata": {},
   "outputs": [
    {
     "data": {
      "text/plain": [
       "true"
      ]
     },
     "execution_count": 5,
     "metadata": {},
     "output_type": "execute_result"
    }
   ],
   "source": [
    "let\n",
    "    nominal1 = nominal_trajectory_1(sysc, params[:F1][:x0], params[:F1][:p], H)\n",
    "    nominal2 = nominal_trajectory_2(sysc, params[:F1][:x0], params[:F1][:p], H)\n",
    "    slice_nominal(nominal2, params[:F1][:p]) ≈ nominal1\n",
    "end"
   ]
  },
  {
   "cell_type": "code",
   "execution_count": 6,
   "id": "aa446599-e3d7-46d3-a9b7-f45ce7e6ef0f",
   "metadata": {},
   "outputs": [
    {
     "data": {
      "text/plain": [
       "(RC = [100.0 100.0 0.0; 99.50147204362904 99.94996760575029 0.0; … ; -0.20545276106085425 15.901993024413743 -3.4221447456000185; -0.20543527442547238 15.889113976529561 -3.3590364680193625], F1 = [1.0 1.0 0.0; 1.0065 1.0 0.0; … ; 8.652486553805515e-7 -1.0535631128029171e-6 4.556859984924318e-7; 8.584296482869998e-7 -1.0445929159821999e-6 3.889085565468171e-7], DC = [100.0 100.0 0.0; 99.10438444336728 99.79821083016444 0.0; … ; 0.04715161003255562 0.3556994000380388 -0.08272282150209362; 0.047035933348003114 0.3548224909217961 -0.07817953814637621], CS = [100.0 100.0 … 100.0 0.0; 100.09999343412203 99.98040195534158 … 90.29016774501761 0.0; … ; 0.34324710066964254 39.42340443911915 … 5.9112603202036915 0.7128749720244894; 0.3826424579950375 39.367306813525815 … 5.888542184896456 0.6585405683797696], CC = [10.0 10.0 10.0 0.0; 10.010004980711097 10.009942129725069 9.88424519902869 0.0; … ; 0.5150580122629823 0.9532661809630534 0.12894333966375177 -1.428992417126292; 0.5160113409615763 0.9533892620346117 0.11721819923168439 -1.0886810790787436])"
      ]
     },
     "execution_count": 6,
     "metadata": {},
     "output_type": "execute_result"
    }
   ],
   "source": [
    "nominal = (\n",
    "    RC = nominal_trajectory_2(benchmarks[:RC], params[:RC][:x0], params[:RC][:p], H),\n",
    "    F1 = nominal_trajectory_2(benchmarks[:F1], params[:F1][:x0], params[:F1][:p], H),\n",
    "    DC = nominal_trajectory_2(benchmarks[:DC], params[:DC][:x0], params[:DC][:p], H),\n",
    "    CS = nominal_trajectory_2(benchmarks[:CS], params[:CS][:x0], params[:CS][:p], H),\n",
    "    CC = nominal_trajectory_2(benchmarks[:CC], params[:CC][:x0], params[:CC][:p], H))"
   ]
  },
  {
   "cell_type": "code",
   "execution_count": 27,
   "id": "65876250-d9cb-4a7a-a639-c5b3b3c8c79d",
   "metadata": {},
   "outputs": [
    {
     "data": {
      "text/plain": [
       "reff (generic function with 1 method)"
      ]
     },
     "execution_count": 27,
     "metadata": {},
     "output_type": "execute_result"
    }
   ],
   "source": [
    "reff(s::Symbol) = synthesize_constraints(c2d(benchmarks[s], params[s][:p]*0.001),\n",
    "    K[s], x_to_z_kill(benchmarks[s], params[s][:x0]), d_max, maxwindow, \n",
    "    params[s][:n], H, fullresults=true)[2]"
   ]
  },
  {
   "cell_type": "code",
   "execution_count": 28,
   "id": "7135e3ae-b9fd-44f0-aff6-a3bb74a38796",
   "metadata": {},
   "outputs": [
    {
     "name": "stderr",
     "output_type": "stream",
     "text": [
      "\u001b[36m\u001b[1m┌ \u001b[22m\u001b[39m\u001b[36m\u001b[1mInfo: \u001b[22m\u001b[39mStateSpace{Discrete{Float64}, Float64}\n",
      "\u001b[36m\u001b[1m│ \u001b[22m\u001b[39mA = \n",
      "\u001b[36m\u001b[1m│ \u001b[22m\u001b[39m 1.0  0.12999999999999998\n",
      "\u001b[36m\u001b[1m│ \u001b[22m\u001b[39m 0.0  1.0\n",
      "\u001b[36m\u001b[1m│ \u001b[22m\u001b[39mB = \n",
      "\u001b[36m\u001b[1m│ \u001b[22m\u001b[39m 0.02559055118110236\n",
      "\u001b[36m\u001b[1m│ \u001b[22m\u001b[39m 0.39370078740157477\n",
      "\u001b[36m\u001b[1m│ \u001b[22m\u001b[39mC = \n",
      "\u001b[36m\u001b[1m│ \u001b[22m\u001b[39m 1.0  0.0\n",
      "\u001b[36m\u001b[1m│ \u001b[22m\u001b[39mD = \n",
      "\u001b[36m\u001b[1m│ \u001b[22m\u001b[39m 0.0\n",
      "\u001b[36m\u001b[1m│ \u001b[22m\u001b[39m\n",
      "\u001b[36m\u001b[1m│ \u001b[22m\u001b[39mSample Time: 0.02 (seconds)\n",
      "\u001b[36m\u001b[1m│ \u001b[22m\u001b[39mDiscrete-time state-space model\n",
      "\u001b[36m\u001b[1m│ \u001b[22m\u001b[39m  K =\n",
      "\u001b[36m\u001b[1m│ \u001b[22m\u001b[39m   1×3 Matrix{Float64}:\n",
      "\u001b[36m\u001b[1m│ \u001b[22m\u001b[39m    0.582978  0.927175  0.350111\n",
      "\u001b[36m\u001b[1m│ \u001b[22m\u001b[39m  z_0 =\n",
      "\u001b[36m\u001b[1m│ \u001b[22m\u001b[39m   3-element Vector{Float64}:\n",
      "\u001b[36m\u001b[1m│ \u001b[22m\u001b[39m    1.0\n",
      "\u001b[36m\u001b[1m│ \u001b[22m\u001b[39m    1.0\n",
      "\u001b[36m\u001b[1m└ \u001b[22m\u001b[39m    0.0\n",
      "\u001b[36m\u001b[1m┌ \u001b[22m\u001b[39m\u001b[36m\u001b[1mInfo: \u001b[22m\u001b[39m1000\n",
      "\u001b[36m\u001b[1m│ \u001b[22m\u001b[39m  maxwindow = 6\n",
      "\u001b[36m\u001b[1m│ \u001b[22m\u001b[39m  n = 12\n",
      "\u001b[36m\u001b[1m└ \u001b[22m\u001b[39m  H = 100\n"
     ]
    },
    {
     "data": {
      "text/plain": [
       "6×6 Matrix{Float64}:\n",
       "   0.0         Inf        Inf        Inf        Inf       Inf\n",
       "   0.17864      0.0       Inf        Inf        Inf       Inf\n",
       "   0.364089     0.17864    0.0       Inf        Inf       Inf\n",
       "   4.00033      0.364089   0.17864    0.0       Inf       Inf\n",
       " 468.581        2.73422    0.364089   0.17864    0.0      Inf\n",
       "   1.89088e5  132.497      1.30196    0.364089   0.17864   0.0"
      ]
     },
     "execution_count": 28,
     "metadata": {},
     "output_type": "execute_result"
    }
   ],
   "source": [
    "reff(:F1)"
   ]
  },
  {
   "cell_type": "code",
   "execution_count": 17,
   "id": "84e7be78-d8ec-41ef-8c69-3141d7ebc351",
   "metadata": {},
   "outputs": [
    {
     "data": {
      "text/plain": [
       "pb (generic function with 1 method)"
      ]
     },
     "execution_count": 17,
     "metadata": {},
     "output_type": "execute_result"
    }
   ],
   "source": [
    "pb(s::Symbol, newp::Real) = period_boosting(benchmarks[s], K[s], newp,\n",
    "    x_to_z_kill(benchmarks[s], params[s][:x0]), d_max, maxwindow, params[s][:n], nominal[s])"
   ]
  },
  {
   "cell_type": "code",
   "execution_count": 30,
   "id": "d0040bd9-bf0c-410c-81d5-710874308670",
   "metadata": {},
   "outputs": [
    {
     "name": "stderr",
     "output_type": "stream",
     "text": [
      "\u001b[36m\u001b[1m┌ \u001b[22m\u001b[39m\u001b[36m\u001b[1mInfo: \u001b[22m\u001b[39mStateSpace{Discrete{Float64}, Float64}\n",
      "\u001b[36m\u001b[1m│ \u001b[22m\u001b[39mA = \n",
      "\u001b[36m\u001b[1m│ \u001b[22m\u001b[39m 1.0  0.12999999999999998\n",
      "\u001b[36m\u001b[1m│ \u001b[22m\u001b[39m 0.0  1.0\n",
      "\u001b[36m\u001b[1m│ \u001b[22m\u001b[39mB = \n",
      "\u001b[36m\u001b[1m│ \u001b[22m\u001b[39m 0.02559055118110236\n",
      "\u001b[36m\u001b[1m│ \u001b[22m\u001b[39m 0.39370078740157477\n",
      "\u001b[36m\u001b[1m│ \u001b[22m\u001b[39mC = \n",
      "\u001b[36m\u001b[1m│ \u001b[22m\u001b[39m 1.0  0.0\n",
      "\u001b[36m\u001b[1m│ \u001b[22m\u001b[39mD = \n",
      "\u001b[36m\u001b[1m│ \u001b[22m\u001b[39m 0.0\n",
      "\u001b[36m\u001b[1m│ \u001b[22m\u001b[39m\n",
      "\u001b[36m\u001b[1m│ \u001b[22m\u001b[39mSample Time: 0.02 (seconds)\n",
      "\u001b[36m\u001b[1m│ \u001b[22m\u001b[39mDiscrete-time state-space model\n",
      "\u001b[36m\u001b[1m│ \u001b[22m\u001b[39m  K =\n",
      "\u001b[36m\u001b[1m│ \u001b[22m\u001b[39m   1×3 Matrix{Float64}:\n",
      "\u001b[36m\u001b[1m│ \u001b[22m\u001b[39m    0.582978  0.927175  0.350111\n",
      "\u001b[36m\u001b[1m│ \u001b[22m\u001b[39m  z_0 =\n",
      "\u001b[36m\u001b[1m│ \u001b[22m\u001b[39m   3-element Vector{Float64}:\n",
      "\u001b[36m\u001b[1m│ \u001b[22m\u001b[39m    1.0\n",
      "\u001b[36m\u001b[1m│ \u001b[22m\u001b[39m    1.0\n",
      "\u001b[36m\u001b[1m└ \u001b[22m\u001b[39m    0.0\n",
      "\u001b[36m\u001b[1m┌ \u001b[22m\u001b[39m\u001b[36m\u001b[1mInfo: \u001b[22m\u001b[39m1000\n",
      "\u001b[36m\u001b[1m│ \u001b[22m\u001b[39m  maxwindow = 6\n",
      "\u001b[36m\u001b[1m│ \u001b[22m\u001b[39m  n = 12\n",
      "\u001b[36m\u001b[1m└ \u001b[22m\u001b[39m  H = 100\n"
     ]
    },
    {
     "data": {
      "text/plain": [
       "6×6 Matrix{Float64}:\n",
       "   0.0         Inf        Inf        Inf        Inf       Inf\n",
       "   0.17864      0.0       Inf        Inf        Inf       Inf\n",
       "   0.364089     0.17864    0.0       Inf        Inf       Inf\n",
       "   4.00033      0.364089   0.17864    0.0       Inf       Inf\n",
       " 468.581        2.73422    0.364089   0.17864    0.0      Inf\n",
       "   1.89088e5  132.497      1.30196    0.364089   0.17864   0.0"
      ]
     },
     "execution_count": 30,
     "metadata": {},
     "output_type": "execute_result"
    }
   ],
   "source": [
    "pb(:F1, 20)"
   ]
  },
  {
   "cell_type": "code",
   "execution_count": null,
   "id": "2c7cf9b7-11fe-450d-8477-0d075a969c6d",
   "metadata": {},
   "outputs": [],
   "source": []
  }
 ],
 "metadata": {
  "kernelspec": {
   "display_name": "Julia 1.9.1",
   "language": "julia",
   "name": "julia-1.9"
  },
  "language_info": {
   "file_extension": ".jl",
   "mimetype": "application/julia",
   "name": "julia",
   "version": "1.9.1"
  }
 },
 "nbformat": 4,
 "nbformat_minor": 5
}
